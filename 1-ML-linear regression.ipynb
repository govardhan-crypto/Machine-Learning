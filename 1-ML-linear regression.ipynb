{
 "cells": [
  {
   "cell_type": "code",
   "execution_count": 14,
   "metadata": {},
   "outputs": [],
   "source": [
    "#importing libraries\n",
    "import numpy as np\n",
    "import matplotlib.pyplot as plt\n",
    "import pandas as pd\n",
    "import seaborn as sns\n",
    "%matplotlib inline"
   ]
  },
  {
   "cell_type": "code",
   "execution_count": 15,
   "metadata": {},
   "outputs": [
    {
     "data": {
      "text/html": [
       "<div>\n",
       "<style scoped>\n",
       "    .dataframe tbody tr th:only-of-type {\n",
       "        vertical-align: middle;\n",
       "    }\n",
       "\n",
       "    .dataframe tbody tr th {\n",
       "        vertical-align: top;\n",
       "    }\n",
       "\n",
       "    .dataframe thead th {\n",
       "        text-align: right;\n",
       "    }\n",
       "</style>\n",
       "<table border=\"1\" class=\"dataframe\">\n",
       "  <thead>\n",
       "    <tr style=\"text-align: right;\">\n",
       "      <th></th>\n",
       "      <th>R&amp;D Spend</th>\n",
       "      <th>Administration</th>\n",
       "      <th>Marketing Spend</th>\n",
       "      <th>State</th>\n",
       "      <th>Profit</th>\n",
       "    </tr>\n",
       "  </thead>\n",
       "  <tbody>\n",
       "    <tr>\n",
       "      <th>0</th>\n",
       "      <td>165349.20</td>\n",
       "      <td>136897.80</td>\n",
       "      <td>471784.10</td>\n",
       "      <td>New York</td>\n",
       "      <td>192261.83</td>\n",
       "    </tr>\n",
       "    <tr>\n",
       "      <th>1</th>\n",
       "      <td>162597.70</td>\n",
       "      <td>151377.59</td>\n",
       "      <td>443898.53</td>\n",
       "      <td>California</td>\n",
       "      <td>191792.06</td>\n",
       "    </tr>\n",
       "    <tr>\n",
       "      <th>2</th>\n",
       "      <td>153441.51</td>\n",
       "      <td>101145.55</td>\n",
       "      <td>407934.54</td>\n",
       "      <td>Florida</td>\n",
       "      <td>191050.39</td>\n",
       "    </tr>\n",
       "    <tr>\n",
       "      <th>3</th>\n",
       "      <td>144372.41</td>\n",
       "      <td>118671.85</td>\n",
       "      <td>383199.62</td>\n",
       "      <td>New York</td>\n",
       "      <td>182901.99</td>\n",
       "    </tr>\n",
       "    <tr>\n",
       "      <th>4</th>\n",
       "      <td>142107.34</td>\n",
       "      <td>91391.77</td>\n",
       "      <td>366168.42</td>\n",
       "      <td>Florida</td>\n",
       "      <td>166187.94</td>\n",
       "    </tr>\n",
       "  </tbody>\n",
       "</table>\n",
       "</div>"
      ],
      "text/plain": [
       "   R&D Spend  Administration  Marketing Spend       State     Profit\n",
       "0  165349.20       136897.80        471784.10    New York  192261.83\n",
       "1  162597.70       151377.59        443898.53  California  191792.06\n",
       "2  153441.51       101145.55        407934.54     Florida  191050.39\n",
       "3  144372.41       118671.85        383199.62    New York  182901.99\n",
       "4  142107.34        91391.77        366168.42     Florida  166187.94"
      ]
     },
     "execution_count": 15,
     "metadata": {},
     "output_type": "execute_result"
    }
   ],
   "source": [
    "#Importing the dataset\n",
    "data_url = 'https://raw.githubusercontent.com/boosuro/profit_estimation_of_companies/master/1000_Companies.csv'\n",
    "companies = pd.read_csv(data_url)\n",
    "X = companies.iloc[:,:-1].values\n",
    "y= companies.iloc[:,4].values\n",
    "companies.head()"
   ]
  },
  {
   "cell_type": "code",
   "execution_count": 16,
   "metadata": {},
   "outputs": [
    {
     "data": {
      "image/png": "[encoded data removed]",
      "text/plain": [
       "<Figure size 360x360 with 1 Axes>"
      ]
     },
     "metadata": {
      "needs_background": "light"
     },
     "output_type": "display_data"
    }
   ],
   "source": [
    "sns.lmplot(data=companies, x='R&D Spend', y='Profit', ci=None, fit_reg=False)\n",
    "\n",
    "plt.title('Companies profit based on R&D ')\n",
    "plt.xlabel('R&D Spend')\n",
    "plt.ylabel('Profit of a company')\n",
    "\n",
    "plt.show();"
   ]
  },
  {
   "cell_type": "code",
   "execution_count": 17,
   "metadata": {},
   "outputs": [
    {
     "data": {
      "text/plain": [
       "<AxesSubplot:>"
      ]
     },
     "execution_count": 17,
     "metadata": {},
     "output_type": "execute_result"
    },
    {
     "data": {
      "image/png": "[encoded data removed]",
      "text/plain": [
       "<Figure size 432x288 with 2 Axes>"
      ]
     },
     "metadata": {
      "needs_background": "light"
     },
     "output_type": "display_data"
    }
   ],
   "source": [
    "#Data visualization\n",
    "sns.heatmap(companies.corr())"
   ]
  },
  {
   "cell_type": "code",
   "execution_count": 18,
   "metadata": {},
   "outputs": [
    {
     "data": {
      "text/html": [
       "<div>\n",
       "<style scoped>\n",
       "    .dataframe tbody tr th:only-of-type {\n",
       "        vertical-align: middle;\n",
       "    }\n",
       "\n",
       "    .dataframe tbody tr th {\n",
       "        vertical-align: top;\n",
       "    }\n",
       "\n",
       "    .dataframe thead th {\n",
       "        text-align: right;\n",
       "    }\n",
       "</style>\n",
       "<table border=\"1\" class=\"dataframe\">\n",
       "  <thead>\n",
       "    <tr style=\"text-align: right;\">\n",
       "      <th></th>\n",
       "      <th>R&amp;D Spend</th>\n",
       "      <th>Administration</th>\n",
       "      <th>Marketing Spend</th>\n",
       "    </tr>\n",
       "  </thead>\n",
       "  <tbody>\n",
       "    <tr>\n",
       "      <th>R&amp;D Spend</th>\n",
       "      <td>1.000000</td>\n",
       "      <td>0.582434</td>\n",
       "      <td>0.978407</td>\n",
       "    </tr>\n",
       "    <tr>\n",
       "      <th>Administration</th>\n",
       "      <td>0.582434</td>\n",
       "      <td>1.000000</td>\n",
       "      <td>0.520465</td>\n",
       "    </tr>\n",
       "    <tr>\n",
       "      <th>Marketing Spend</th>\n",
       "      <td>0.978407</td>\n",
       "      <td>0.520465</td>\n",
       "      <td>1.000000</td>\n",
       "    </tr>\n",
       "  </tbody>\n",
       "</table>\n",
       "</div>"
      ],
      "text/plain": [
       "                 R&D Spend  Administration  Marketing Spend\n",
       "R&D Spend         1.000000        0.582434         0.978407\n",
       "Administration    0.582434        1.000000         0.520465\n",
       "Marketing Spend   0.978407        0.520465         1.000000"
      ]
     },
     "execution_count": 18,
     "metadata": {},
     "output_type": "execute_result"
    }
   ],
   "source": [
    "companies[['R&D Spend','Administration','Marketing Spend']].corr()"
   ]
  },
  {
   "cell_type": "code",
   "execution_count": 19,
   "metadata": {},
   "outputs": [
    {
     "data": {
      "text/html": [
       "<div>\n",
       "<style scoped>\n",
       "    .dataframe tbody tr th:only-of-type {\n",
       "        vertical-align: middle;\n",
       "    }\n",
       "\n",
       "    .dataframe tbody tr th {\n",
       "        vertical-align: top;\n",
       "    }\n",
       "\n",
       "    .dataframe thead th {\n",
       "        text-align: right;\n",
       "    }\n",
       "</style>\n",
       "<table border=\"1\" class=\"dataframe\">\n",
       "  <thead>\n",
       "    <tr style=\"text-align: right;\">\n",
       "      <th></th>\n",
       "      <th>R&amp;D Spend</th>\n",
       "      <th>Administration</th>\n",
       "      <th>State</th>\n",
       "      <th>Profit</th>\n",
       "    </tr>\n",
       "  </thead>\n",
       "  <tbody>\n",
       "    <tr>\n",
       "      <th>0</th>\n",
       "      <td>165349.20</td>\n",
       "      <td>136897.80</td>\n",
       "      <td>New York</td>\n",
       "      <td>192261.83</td>\n",
       "    </tr>\n",
       "    <tr>\n",
       "      <th>1</th>\n",
       "      <td>162597.70</td>\n",
       "      <td>151377.59</td>\n",
       "      <td>California</td>\n",
       "      <td>191792.06</td>\n",
       "    </tr>\n",
       "    <tr>\n",
       "      <th>2</th>\n",
       "      <td>153441.51</td>\n",
       "      <td>101145.55</td>\n",
       "      <td>Florida</td>\n",
       "      <td>191050.39</td>\n",
       "    </tr>\n",
       "    <tr>\n",
       "      <th>3</th>\n",
       "      <td>144372.41</td>\n",
       "      <td>118671.85</td>\n",
       "      <td>New York</td>\n",
       "      <td>182901.99</td>\n",
       "    </tr>\n",
       "    <tr>\n",
       "      <th>4</th>\n",
       "      <td>142107.34</td>\n",
       "      <td>91391.77</td>\n",
       "      <td>Florida</td>\n",
       "      <td>166187.94</td>\n",
       "    </tr>\n",
       "  </tbody>\n",
       "</table>\n",
       "</div>"
      ],
      "text/plain": [
       "   R&D Spend  Administration       State     Profit\n",
       "0  165349.20       136897.80    New York  192261.83\n",
       "1  162597.70       151377.59  California  191792.06\n",
       "2  153441.51       101145.55     Florida  191050.39\n",
       "3  144372.41       118671.85    New York  182901.99\n",
       "4  142107.34        91391.77     Florida  166187.94"
      ]
     },
     "execution_count": 19,
     "metadata": {},
     "output_type": "execute_result"
    }
   ],
   "source": [
    "companies.drop(['Marketing Spend'],axis=1,inplace=True)\n",
    "companies.head()"
   ]
  },
  {
   "cell_type": "code",
   "execution_count": 20,
   "metadata": {},
   "outputs": [
    {
     "data": {
      "text/html": [
       "<div>\n",
       "<style scoped>\n",
       "    .dataframe tbody tr th:only-of-type {\n",
       "        vertical-align: middle;\n",
       "    }\n",
       "\n",
       "    .dataframe tbody tr th {\n",
       "        vertical-align: top;\n",
       "    }\n",
       "\n",
       "    .dataframe thead th {\n",
       "        text-align: right;\n",
       "    }\n",
       "</style>\n",
       "<table border=\"1\" class=\"dataframe\">\n",
       "  <thead>\n",
       "    <tr style=\"text-align: right;\">\n",
       "      <th></th>\n",
       "      <th>R&amp;D Spend</th>\n",
       "      <th>Administration</th>\n",
       "      <th>State</th>\n",
       "      <th>Profit</th>\n",
       "      <th>California</th>\n",
       "      <th>Florida</th>\n",
       "      <th>New York</th>\n",
       "    </tr>\n",
       "  </thead>\n",
       "  <tbody>\n",
       "    <tr>\n",
       "      <th>0</th>\n",
       "      <td>165349.20</td>\n",
       "      <td>136897.80</td>\n",
       "      <td>New York</td>\n",
       "      <td>192261.83</td>\n",
       "      <td>0</td>\n",
       "      <td>0</td>\n",
       "      <td>1</td>\n",
       "    </tr>\n",
       "    <tr>\n",
       "      <th>1</th>\n",
       "      <td>162597.70</td>\n",
       "      <td>151377.59</td>\n",
       "      <td>California</td>\n",
       "      <td>191792.06</td>\n",
       "      <td>1</td>\n",
       "      <td>0</td>\n",
       "      <td>0</td>\n",
       "    </tr>\n",
       "    <tr>\n",
       "      <th>2</th>\n",
       "      <td>153441.51</td>\n",
       "      <td>101145.55</td>\n",
       "      <td>Florida</td>\n",
       "      <td>191050.39</td>\n",
       "      <td>0</td>\n",
       "      <td>1</td>\n",
       "      <td>0</td>\n",
       "    </tr>\n",
       "    <tr>\n",
       "      <th>3</th>\n",
       "      <td>144372.41</td>\n",
       "      <td>118671.85</td>\n",
       "      <td>New York</td>\n",
       "      <td>182901.99</td>\n",
       "      <td>0</td>\n",
       "      <td>0</td>\n",
       "      <td>1</td>\n",
       "    </tr>\n",
       "    <tr>\n",
       "      <th>4</th>\n",
       "      <td>142107.34</td>\n",
       "      <td>91391.77</td>\n",
       "      <td>Florida</td>\n",
       "      <td>166187.94</td>\n",
       "      <td>0</td>\n",
       "      <td>1</td>\n",
       "      <td>0</td>\n",
       "    </tr>\n",
       "  </tbody>\n",
       "</table>\n",
       "</div>"
      ],
      "text/plain": [
       "   R&D Spend  Administration       State     Profit  California  Florida  \\\n",
       "0  165349.20       136897.80    New York  192261.83           0        0   \n",
       "1  162597.70       151377.59  California  191792.06           1        0   \n",
       "2  153441.51       101145.55     Florida  191050.39           0        1   \n",
       "3  144372.41       118671.85    New York  182901.99           0        0   \n",
       "4  142107.34        91391.77     Florida  166187.94           0        1   \n",
       "\n",
       "   New York  \n",
       "0         1  \n",
       "1         0  \n",
       "2         0  \n",
       "3         1  \n",
       "4         0  "
      ]
     },
     "execution_count": 20,
     "metadata": {},
     "output_type": "execute_result"
    }
   ],
   "source": [
    "#encoding data \n",
    "dummies = pd.get_dummies(companies.State)\n",
    "companies = pd.concat([companies,dummies],axis=1)\n",
    "companies.head()"
   ]
  },
  {
   "cell_type": "code",
   "execution_count": 21,
   "metadata": {},
   "outputs": [
    {
     "data": {
      "text/html": [
       "<div>\n",
       "<style scoped>\n",
       "    .dataframe tbody tr th:only-of-type {\n",
       "        vertical-align: middle;\n",
       "    }\n",
       "\n",
       "    .dataframe tbody tr th {\n",
       "        vertical-align: top;\n",
       "    }\n",
       "\n",
       "    .dataframe thead th {\n",
       "        text-align: right;\n",
       "    }\n",
       "</style>\n",
       "<table border=\"1\" class=\"dataframe\">\n",
       "  <thead>\n",
       "    <tr style=\"text-align: right;\">\n",
       "      <th></th>\n",
       "      <th>R&amp;D Spend</th>\n",
       "      <th>Administration</th>\n",
       "      <th>Profit</th>\n",
       "      <th>California</th>\n",
       "      <th>Florida</th>\n",
       "      <th>New York</th>\n",
       "    </tr>\n",
       "  </thead>\n",
       "  <tbody>\n",
       "    <tr>\n",
       "      <th>0</th>\n",
       "      <td>165349.20</td>\n",
       "      <td>136897.80</td>\n",
       "      <td>192261.83</td>\n",
       "      <td>0</td>\n",
       "      <td>0</td>\n",
       "      <td>1</td>\n",
       "    </tr>\n",
       "    <tr>\n",
       "      <th>1</th>\n",
       "      <td>162597.70</td>\n",
       "      <td>151377.59</td>\n",
       "      <td>191792.06</td>\n",
       "      <td>1</td>\n",
       "      <td>0</td>\n",
       "      <td>0</td>\n",
       "    </tr>\n",
       "    <tr>\n",
       "      <th>2</th>\n",
       "      <td>153441.51</td>\n",
       "      <td>101145.55</td>\n",
       "      <td>191050.39</td>\n",
       "      <td>0</td>\n",
       "      <td>1</td>\n",
       "      <td>0</td>\n",
       "    </tr>\n",
       "    <tr>\n",
       "      <th>3</th>\n",
       "      <td>144372.41</td>\n",
       "      <td>118671.85</td>\n",
       "      <td>182901.99</td>\n",
       "      <td>0</td>\n",
       "      <td>0</td>\n",
       "      <td>1</td>\n",
       "    </tr>\n",
       "    <tr>\n",
       "      <th>4</th>\n",
       "      <td>142107.34</td>\n",
       "      <td>91391.77</td>\n",
       "      <td>166187.94</td>\n",
       "      <td>0</td>\n",
       "      <td>1</td>\n",
       "      <td>0</td>\n",
       "    </tr>\n",
       "  </tbody>\n",
       "</table>\n",
       "</div>"
      ],
      "text/plain": [
       "   R&D Spend  Administration     Profit  California  Florida  New York\n",
       "0  165349.20       136897.80  192261.83           0        0         1\n",
       "1  162597.70       151377.59  191792.06           1        0         0\n",
       "2  153441.51       101145.55  191050.39           0        1         0\n",
       "3  144372.41       118671.85  182901.99           0        0         1\n",
       "4  142107.34        91391.77  166187.94           0        1         0"
      ]
     },
     "execution_count": 21,
     "metadata": {},
     "output_type": "execute_result"
    }
   ],
   "source": [
    "companies.drop('State',axis=1,inplace=True)\n",
    "companies.head()"
   ]
  },
  {
   "cell_type": "code",
   "execution_count": 22,
   "metadata": {},
   "outputs": [],
   "source": [
    "#scaling\n",
    "from sklearn.preprocessing import MinMaxScaler\n",
    "scale = MinMaxScaler()\n",
    "companies[['R&D Spend','Administration']]=scale.fit_transform(companies[['R&D Spend','Administration']])\n"
   ]
  },
  {
   "cell_type": "code",
   "execution_count": 23,
   "metadata": {},
   "outputs": [
    {
     "data": {
      "text/plain": [
       "(1000, 6)"
      ]
     },
     "execution_count": 23,
     "metadata": {},
     "output_type": "execute_result"
    }
   ],
   "source": [
    "y=companies.iloc[:,2].values\n",
    "X = companies.iloc[:,:].values\n",
    "X.shape"
   ]
  },
  {
   "cell_type": "code",
   "execution_count": 24,
   "metadata": {},
   "outputs": [],
   "source": [
    "#splitting dataset into train and test\n",
    "from sklearn.model_selection import train_test_split\n",
    "X_train,X_test,y_train,y_test = train_test_split(X,y,test_size=0.25,random_state=0)\n"
   ]
  },
  {
   "cell_type": "code",
   "execution_count": 25,
   "metadata": {},
   "outputs": [
    {
     "data": {
      "text/plain": [
       "LinearRegression()"
      ]
     },
     "execution_count": 25,
     "metadata": {},
     "output_type": "execute_result"
    }
   ],
   "source": [
    "from sklearn.linear_model import LinearRegression\n",
    "lin_reg = LinearRegression()\n",
    "lin_reg.fit(X_train,y_train)\n"
   ]
  },
  {
   "cell_type": "code",
   "execution_count": 26,
   "metadata": {},
   "outputs": [
    {
     "data": {
      "text/plain": [
       "array([ 89012.02672,  87654.55773,  94093.35179, 175396.2616 ,\n",
       "        83356.61784, 110395.794  , 105008.31   ,  90687.2921 ,\n",
       "       164180.2702 ,  53483.75718,  66273.3533 , 150393.716  ,\n",
       "       125971.2343 ,  58694.93455, 176344.525  ,  75297.23305,\n",
       "       118219.3944 , 163462.6654 , 132602.65   , 181574.4968 ,\n",
       "        97483.56   ,  84909.71956, 180684.3252 ,  83391.64379,\n",
       "       104159.467  , 100404.0021 ,  64926.08   ,  56944.49153,\n",
       "        68210.88613, 191792.06   , 120738.6997 , 110848.5685 ,\n",
       "       101352.2656 , 137842.4672 ,  63306.39937, 107994.381  ,\n",
       "       185502.5285 , 171176.9165 , 174364.2776 , 117645.3106 ,\n",
       "        96616.9285 , 164336.6055 , 106865.8621 ,  50468.96294,\n",
       "       116492.8715 ,  57992.70704, 158208.7735 ,  78689.62408,\n",
       "       159514.1307 , 131051.7051 , 184555.1194 , 174329.2516 ,\n",
       "        92949.45565,  78308.61013, 180257.1795 ,  84583.38025,\n",
       "       142762.3312 , 170174.8327 ,  84305.73556, 105154.7165 ,\n",
       "       141527.0259 ,  52609.81711, 140832.487  , 138872.7426 ,\n",
       "        97478.0542 , 113578.8837 , 126506.0207 , 151774.2509 ,\n",
       "        58918.75889, 174007.1838 , 123690.2763 , 167934.0264 ,\n",
       "        91370.72519, 155791.1289 ,  83553.10486,  77847.29279,\n",
       "       120375.6258 ,  93280.9207 , 138022.7227 , 142586.3472 ,\n",
       "       170883.8945 , 139080.3354 , 106212.3292 , 154569.4922 ,\n",
       "       139722.7625 , 109998.5485 ,  68984.01982,  88072.30621,\n",
       "       139130.7386 , 148134.1153 , 157529.6118 ,  57893.60924,\n",
       "        93606.40571, 112642.5803 ,  56620.7151 , 107252.8561 ,\n",
       "       147194.3948 , 151782.7938 , 167377.0285 , 117842.6519 ,\n",
       "       120723.3224 , 138908.6228 , 157142.6178 , 121916.7675 ,\n",
       "        87019.81924, 104824.1057 ,  95226.99644, 177911.2954 ,\n",
       "       180753.5228 , 109658.5406 , 164139.2642 , 166679.9267 ,\n",
       "       157615.041  , 174320.7087 , 169059.9825 ,  51690.5996 ,\n",
       "       175771.2955 , 103906.5968 ,  81963.26862, 138588.2636 ,\n",
       "       144130.0517 , 161456.7893 , 169404.2619 , 120412.3603 ,\n",
       "       158670.9451 , 109344.1613 , 169235.1122 ,  60111.34964,\n",
       "       157949.9232 , 157086.2346 , 174050.7527 , 155915.0011 ,\n",
       "       102873.7585 ,  85570.94108, 140594.1397 , 165495.0246 ,\n",
       "       121140.2166 , 152211.77   , 100556.066  ,  82229.80752,\n",
       "       177468.7724 , 100958.4372 ,  70509.78421,  90164.46578,\n",
       "        61291.12602,  68921.65655,  72949.64036, 175747.3753 ,\n",
       "        89803.10053,  96712.8    ,  92758.09438,  99937.59   ,\n",
       "       171687.7827 ,  60243.7648 , 168760.9805 , 165330.1463 ,\n",
       "       165186.6254 , 102213.3913 , 181102.0736 ,  73872.27504,\n",
       "        90482.26217, 134808.0242 ,  64950.05596,  71772.42685,\n",
       "        60650.40749, 183965.6583 , 175999.3913 , 158516.3184 ,\n",
       "       141046.0598 , 154238.8815 ,  58605.23395,  90712.92084,\n",
       "       152520.9015 , 168145.8907 ,  72478.92582, 116045.2229 ,\n",
       "        80229.05713, 149477.9157 , 116603.0751 , 129232.9188 ,\n",
       "       174254.9283 , 476485.43   , 145240.6305 , 150292.0553 ,\n",
       "        86221.9111 ,  70153.5447 ,  70282.5427 ,  68347.57275,\n",
       "       120445.6777 ,  89594.65343, 166579.1203 , 124577.0308 ,\n",
       "        67226.74247, 156991.12   , 117637.622  , 164779.9827 ,\n",
       "       168402.1781 , 145976.1753 , 141082.7944 , 108917.0157 ,\n",
       "        81824.87341, 156340.4382 , 135591.4094 ,  60065.21791,\n",
       "       142927.2094 , 175826.8244 ,  87219.72342, 135641.8126 ,\n",
       "       169403.4076 ,  94974.98049, 136286.8026 , 126058.372  ,\n",
       "        89949.14   ,  71235.93187, 166415.9507 , 138841.9881 ,\n",
       "       126993.8211 , 137670.7546 ,  78239.91   , 129889.8688 ,\n",
       "       169745.1241 , 108896.5127 , 123671.4819 , 117289.0711 ,\n",
       "        59981.49735, 126295.865  , 178552.8682 ,  54119.34996,\n",
       "       124266.9    , 172937.611  ,  69995.5008 , 151992.0952 ,\n",
       "       134268.9664 ,  59766.21593,  85842.60573,  84782.43014,\n",
       "        98397.27172,  76229.26494, 127455.1384 , 110228.3529 ,\n",
       "        59342.48741, 101119.044  , 146874.0356 , 158160.0789 ,\n",
       "       161035.6236 , 184979.7022 ,  55832.20416, 191050.39   ,\n",
       "        67282.27141, 163155.1205 ])"
      ]
     },
     "execution_count": 26,
     "metadata": {},
     "output_type": "execute_result"
    }
   ],
   "source": [
    "y_pred = lin_reg.predict(X_test)\n",
    "y_pred"
   ]
  },
  {
   "cell_type": "code",
   "execution_count": 31,
   "metadata": {},
   "outputs": [
    {
     "name": "stdout",
     "output_type": "stream",
     "text": [
      "1.0\n"
     ]
    }
   ],
   "source": [
    "score = lin_reg.score(X_test,y_test)\n",
    "print(score)"
   ]
  },
  {
   "cell_type": "code",
   "execution_count": 27,
   "metadata": {},
   "outputs": [
    {
     "name": "stdout",
     "output_type": "stream",
     "text": [
      "[ 3.91890011e-13  1.03541541e-10  1.00000000e+00 -1.96717848e-12\n",
      "  1.20231857e-11 -1.00560072e-11]\n"
     ]
    }
   ],
   "source": [
    "#coefficient\n",
    "print(lin_reg.coef_)"
   ]
  },
  {
   "cell_type": "code",
   "execution_count": 28,
   "metadata": {},
   "outputs": [
    {
     "name": "stdout",
     "output_type": "stream",
     "text": [
      "-1.3096723705530167e-10\n"
     ]
    }
   ],
   "source": [
    "#intercepts\n",
    "print(lin_reg.intercept_)\n"
   ]
  },
  {
   "cell_type": "code",
   "execution_count": 29,
   "metadata": {},
   "outputs": [
    {
     "data": {
      "text/plain": [
       "1.0"
      ]
     },
     "execution_count": 29,
     "metadata": {},
     "output_type": "execute_result"
    }
   ],
   "source": [
    "#calculating th r squared error\n",
    "from sklearn.metrics import r2_score\n",
    "r2_score(y_test,y_pred)"
   ]
  },
  {
   "cell_type": "code",
   "execution_count": 30,
   "metadata": {},
   "outputs": [],
   "source": [
    "# as r2 value is 1 we can say the model created is good "
   ]
  }
 ],
 "metadata": {
  "kernelspec": {
   "display_name": "Python 3",
   "language": "python",
   "name": "python3"
  },
  "language_info": {
   "codemirror_mode": {
    "name": "ipython",
    "version": 3
   },
   "file_extension": ".py",
   "mimetype": "text/x-python",
   "name": "python",
   "nbconvert_exporter": "python",
   "pygments_lexer": "ipython3",
   "version": "3.8.5"
  }
 },
 "nbformat": 4,
 "nbformat_minor": 4
}
